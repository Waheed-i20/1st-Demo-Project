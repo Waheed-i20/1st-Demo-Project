{
 "cells": [
  {
   "cell_type": "markdown",
   "id": "36f930e5",
   "metadata": {},
   "source": [
    "Student Data"
   ]
  },
  {
   "cell_type": "code",
   "execution_count": 90,
   "id": "860b6828",
   "metadata": {},
   "outputs": [
    {
     "name": "stdout",
     "output_type": "stream",
     "text": [
      "noya 27 70.5 True\n"
     ]
    }
   ],
   "source": [
    "name = \"noya\"\n",
    "age = 27\n",
    "percentage = 70.5\n",
    "record_submission = True\n",
    "print (name, age, percentage, record_submission)\n"
   ]
  },
  {
   "cell_type": "markdown",
   "id": "cead1950",
   "metadata": {},
   "source": [
    "Updating New Percentage"
   ]
  },
  {
   "cell_type": "code",
   "execution_count": 91,
   "id": "e5a2f048",
   "metadata": {},
   "outputs": [
    {
     "name": "stdout",
     "output_type": "stream",
     "text": [
      "noya's new percentage is 73.0\n"
     ]
    }
   ],
   "source": [
    "percentage = percentage + 2.5\n",
    "print (f\"{name}'s new percentage is {percentage}\")"
   ]
  },
  {
   "cell_type": "markdown",
   "id": "17021e7f",
   "metadata": {},
   "source": [
    "Updating age after 10 years"
   ]
  },
  {
   "cell_type": "code",
   "execution_count": 92,
   "id": "ac5e69f4",
   "metadata": {},
   "outputs": [
    {
     "name": "stdout",
     "output_type": "stream",
     "text": [
      "noya's age after 10 years is 37\n"
     ]
    }
   ],
   "source": [
    "age = age + 10\n",
    "print (f\"{name}'s age after 10 years is {age}\")"
   ]
  },
  {
   "cell_type": "markdown",
   "id": "13458cae",
   "metadata": {},
   "source": [
    "### List of Python"
   ]
  },
  {
   "cell_type": "code",
   "execution_count": 93,
   "id": "160fcbf6",
   "metadata": {},
   "outputs": [
    {
     "name": "stdout",
     "output_type": "stream",
     "text": [
      "['c', 'c++', 'java', 'python'] this 4 records written by noya\n"
     ]
    }
   ],
   "source": [
    "records = [\"c\", \"c++\", \"java\", \"python\"]\n",
    "\n",
    "print (f\"{records} this 4 records written by {name}\")"
   ]
  },
  {
   "cell_type": "markdown",
   "id": "8a35d002",
   "metadata": {},
   "source": [
    "### Append (Adding)"
   ]
  },
  {
   "cell_type": "code",
   "execution_count": 94,
   "id": "d725a31f",
   "metadata": {},
   "outputs": [
    {
     "name": "stdout",
     "output_type": "stream",
     "text": [
      "['c', 'c++', 'java', 'python', 'aws'] this 5 records written by noya\n"
     ]
    }
   ],
   "source": [
    "records.append(\"aws\")\n",
    "\n",
    "print (f\"{records} this 5 records written by {name}\")\n",
    "\n"
   ]
  },
  {
   "cell_type": "markdown",
   "id": "98aa9fa4",
   "metadata": {},
   "source": [
    "### Selection and Slicing"
   ]
  },
  {
   "cell_type": "code",
   "execution_count": 95,
   "id": "6e8cbd39",
   "metadata": {},
   "outputs": [
    {
     "data": {
      "text/plain": [
       "'c++'"
      ]
     },
     "execution_count": 95,
     "metadata": {},
     "output_type": "execute_result"
    }
   ],
   "source": [
    "records [1]"
   ]
  },
  {
   "cell_type": "code",
   "execution_count": 96,
   "id": "ad5ec8af",
   "metadata": {},
   "outputs": [
    {
     "data": {
      "text/plain": [
       "['c']"
      ]
     },
     "execution_count": 96,
     "metadata": {},
     "output_type": "execute_result"
    }
   ],
   "source": [
    "records [:1]"
   ]
  },
  {
   "cell_type": "code",
   "execution_count": 97,
   "id": "eb96cc3b",
   "metadata": {},
   "outputs": [
    {
     "data": {
      "text/plain": [
       "'aws'"
      ]
     },
     "execution_count": 97,
     "metadata": {},
     "output_type": "execute_result"
    }
   ],
   "source": [
    "records [-1]"
   ]
  },
  {
   "cell_type": "code",
   "execution_count": 98,
   "id": "4d294950",
   "metadata": {},
   "outputs": [
    {
     "data": {
      "text/plain": [
       "['c', 'c++', 'java', 'python']"
      ]
     },
     "execution_count": 98,
     "metadata": {},
     "output_type": "execute_result"
    }
   ],
   "source": [
    "records[:-1]"
   ]
  },
  {
   "cell_type": "code",
   "execution_count": 99,
   "id": "7e4156cd",
   "metadata": {},
   "outputs": [
    {
     "data": {
      "text/plain": [
       "'java'"
      ]
     },
     "execution_count": 99,
     "metadata": {},
     "output_type": "execute_result"
    }
   ],
   "source": [
    "records [2]"
   ]
  },
  {
   "cell_type": "code",
   "execution_count": 100,
   "id": "56e67ff5",
   "metadata": {},
   "outputs": [
    {
     "data": {
      "text/plain": [
       "['c', 'c++']"
      ]
     },
     "execution_count": 100,
     "metadata": {},
     "output_type": "execute_result"
    }
   ],
   "source": [
    "records [:2]"
   ]
  },
  {
   "cell_type": "code",
   "execution_count": 101,
   "id": "77cf4aeb",
   "metadata": {},
   "outputs": [
    {
     "data": {
      "text/plain": [
       "'python'"
      ]
     },
     "execution_count": 101,
     "metadata": {},
     "output_type": "execute_result"
    }
   ],
   "source": [
    "records [-2]"
   ]
  },
  {
   "cell_type": "code",
   "execution_count": 102,
   "id": "3d29de8c",
   "metadata": {},
   "outputs": [
    {
     "data": {
      "text/plain": [
       "['c', 'c++', 'java']"
      ]
     },
     "execution_count": 102,
     "metadata": {},
     "output_type": "execute_result"
    }
   ],
   "source": [
    "records [:-2]"
   ]
  },
  {
   "cell_type": "markdown",
   "id": "6cd99059",
   "metadata": {},
   "source": [
    "##Conditional Statement"
   ]
  },
  {
   "cell_type": "markdown",
   "id": "06f3041d",
   "metadata": {},
   "source": [
    "### Calculating Letter Grade\n",
    "\n",
    "- 30 or under fail\n",
    "- 50 or under c grade\n",
    "- 60 or under b grade\n",
    "- 70 or under a grade\n",
    "- anything above 70 a+"
   ]
  },
  {
   "cell_type": "code",
   "execution_count": 103,
   "id": "d1dd7377",
   "metadata": {},
   "outputs": [
    {
     "name": "stdout",
     "output_type": "stream",
     "text": [
      "noya's score is a+\n"
     ]
    }
   ],
   "source": [
    "percentage_grade = percentage\n",
    "if percentage < 30:\n",
    "    score = \"Fail\"\n",
    "elif percentage < 50:\n",
    "    score = \"C\"\n",
    "elif percentage < 60:\n",
    "    score = \"b\"\n",
    "elif percentage < 70:\n",
    "    score = \"a\"\n",
    "else: percentage = \"a+\"\n",
    "\n",
    "print (f\"{name}'s score is {percentage}\")"
   ]
  },
  {
   "cell_type": "code",
   "execution_count": 106,
   "id": "c7f7eba8",
   "metadata": {},
   "outputs": [
    {
     "name": "stdout",
     "output_type": "stream",
     "text": [
      "noya's score is a+\n"
     ]
    }
   ],
   "source": [
    "percentage = float(input (\"what is your score ?\"))\n",
    "if percentage < 30:\n",
    "    score = \"Fail\"\n",
    "elif percentage < 50:\n",
    "    score = \"C\"\n",
    "elif percentage < 60:\n",
    "    score = \"b\"\n",
    "elif percentage < 70:\n",
    "    score = \"a\"\n",
    "else: percentage = \"a+\"\n",
    "\n",
    "print (f\"{name}'s score is {percentage}\")"
   ]
  },
  {
   "cell_type": "markdown",
   "id": "1dbcd6ca",
   "metadata": {},
   "source": [
    "### Using Loops in Python"
   ]
  },
  {
   "cell_type": "code",
   "execution_count": 107,
   "id": "b8e0e402",
   "metadata": {},
   "outputs": [
    {
     "name": "stdout",
     "output_type": "stream",
     "text": [
      "['c', 'c++', 'java', 'python', 'aws']\n"
     ]
    }
   ],
   "source": [
    "print (records)"
   ]
  },
  {
   "cell_type": "code",
   "execution_count": 108,
   "id": "dcce2993",
   "metadata": {},
   "outputs": [
    {
     "name": "stdout",
     "output_type": "stream",
     "text": [
      "c\n",
      "c++\n",
      "java\n"
     ]
    }
   ],
   "source": [
    "print (records[0])\n",
    "print (records[1])\n",
    "print (records[2])"
   ]
  },
  {
   "cell_type": "code",
   "execution_count": 116,
   "id": "b304488f",
   "metadata": {},
   "outputs": [
    {
     "name": "stdout",
     "output_type": "stream",
     "text": [
      "c\n",
      "c++\n",
      "java\n",
      "python\n",
      "aws\n"
     ]
    }
   ],
   "source": [
    "for k in records:\n",
    "\n",
    "    print (k)"
   ]
  },
  {
   "cell_type": "code",
   "execution_count": 118,
   "id": "4fb265b1",
   "metadata": {},
   "outputs": [
    {
     "name": "stdout",
     "output_type": "stream",
     "text": [
      "C\n",
      "C++\n",
      "Java\n",
      "Python\n",
      "Aws\n"
     ]
    }
   ],
   "source": [
    "for k in records:\n",
    "\n",
    "    print (k.capitalize())"
   ]
  },
  {
   "cell_type": "code",
   "execution_count": 122,
   "id": "aa15c5ca",
   "metadata": {},
   "outputs": [
    {
     "name": "stdout",
     "output_type": "stream",
     "text": [
      "1. C\n",
      "2. C++\n",
      "3. Java\n",
      "4. Python\n",
      "5. Aws\n"
     ]
    }
   ],
   "source": [
    "records_number = 1\n",
    "\n",
    "for k in records:\n",
    "    \n",
    "    print(f\"{records_number}. {k.capitalize()}\")\n",
    "    records_number = records_number + 1"
   ]
  },
  {
   "cell_type": "markdown",
   "id": "c485d3e0",
   "metadata": {},
   "source": [
    "### List Comprehension in Python\n",
    "Make a list with starting 3 letters of records"
   ]
  }
 ],
 "metadata": {
  "kernelspec": {
   "display_name": ".venv",
   "language": "python",
   "name": "python3"
  },
  "language_info": {
   "codemirror_mode": {
    "name": "ipython",
    "version": 3
   },
   "file_extension": ".py",
   "mimetype": "text/x-python",
   "name": "python",
   "nbconvert_exporter": "python",
   "pygments_lexer": "ipython3",
   "version": "3.13.5"
  }
 },
 "nbformat": 4,
 "nbformat_minor": 5
}
